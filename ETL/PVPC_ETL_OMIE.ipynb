{
 "cells": [
  {
   "cell_type": "markdown",
   "metadata": {},
   "source": [
    "# ETL PVPC"
   ]
  },
  {
   "cell_type": "markdown",
   "metadata": {},
   "source": [
    "Estracción y manipulacion de precio PVPC. Precio Voluntario Pequeño Consumido"
   ]
  },
  {
   "cell_type": "code",
   "execution_count": 68,
   "metadata": {
    "scrolled": true
   },
   "outputs": [
    {
     "name": "stdout",
     "output_type": "stream",
     "text": [
      "(632, 6)\n",
      "(1264, 6)\n",
      "(1896, 6)\n",
      "(2528, 6)\n",
      "(3160, 6)\n",
      "(3792, 6)\n",
      "(4424, 6)\n",
      "(5056, 6)\n",
      "(5688, 6)\n",
      "(6320, 6)\n",
      "(6952, 6)\n",
      "(7584, 6)\n",
      "(8216, 6)\n",
      "(8848, 6)\n",
      "(9480, 6)\n",
      "(10112, 6)\n",
      "(10744, 6)\n",
      "(11376, 6)\n",
      "(12008, 6)\n",
      "(12640, 6)\n",
      "(13272, 6)\n",
      "(13904, 6)\n",
      "(14536, 6)\n",
      "(15168, 6)\n",
      "(15800, 6)\n",
      "(16432, 6)\n",
      "(17064, 6)\n",
      "(17696, 6)\n",
      "(18328, 6)\n",
      "(18960, 6)\n",
      "(19592, 6)\n",
      "(20224, 6)\n",
      "(20856, 6)\n",
      "(21488, 6)\n",
      "(22120, 6)\n",
      "(22752, 6)\n"
     ]
    }
   ],
   "source": [
    "#!/usr/bin/env python\n",
    "import url\n",
    "import time\n",
    "import requests\n",
    "import pandas as pd\n",
    "from datetime import datetime\n",
    "import urllib\n",
    "\n",
    "\n",
    "url = 'https://api.esios.ree.es/indicators/10229'\n",
    "url =\"https://api.esios.ree.es/indicators\"\n",
    "f= pd.DataFrame()\n",
    "for bl in range(2015,2018): \n",
    "     for al in range(1,13):\n",
    "        year = str(bl)\n",
    "        month = str(al) if al>9 else \"0\"+str(al)    \n",
    "        url =\"https://api.esios.ree.es/indicators/10229?start_date=\"+year+\"-\"+month+\"-01T00%3A00%3A00Z&end_date=\"+year+\"-\"+month+\"-27T07%3A34%3A17Z\"\n",
    "\n",
    "\n",
    "        headers = {\n",
    "            'Accept' : 'application/json; application/vnd.esios-api-v1+json',\n",
    "            'Host': 'api.esios.ree.es',\n",
    "            'Content-Type': 'application/json',\n",
    "            'Authorization': 'Token token=\"xxxxxxxxxxxxxxxxxxxxxxxx\"'\n",
    "                    }\n",
    "\n",
    "\n",
    "        response = requests.request(\"GET\", url, headers=headers)\n",
    "        \n",
    "        try:    \n",
    "            a = response.json()\n",
    "            a= a['indicator']['values']\n",
    "            c = pd.DataFrame(a)\n",
    "            f = f.append(c)\n",
    "            #print len(total)\n",
    "            print f.shape\n",
    "        except:\n",
    "            print \"error \"#+ str(len(total))"
   ]
  },
  {
   "cell_type": "code",
   "execution_count": 89,
   "metadata": {
    "collapsed": true
   },
   "outputs": [],
   "source": [
    "f = pd.read_csv(\"POOL2015_17\", encoding='utf-8')"
   ]
  },
  {
   "cell_type": "code",
   "execution_count": 100,
   "metadata": {},
   "outputs": [
    {
     "data": {
      "text/html": [
       "<div>\n",
       "<style>\n",
       "    .dataframe thead tr:only-child th {\n",
       "        text-align: right;\n",
       "    }\n",
       "\n",
       "    .dataframe thead th {\n",
       "        text-align: left;\n",
       "    }\n",
       "\n",
       "    .dataframe tbody tr th {\n",
       "        vertical-align: top;\n",
       "    }\n",
       "</style>\n",
       "<table border=\"1\" class=\"dataframe\">\n",
       "  <thead>\n",
       "    <tr style=\"text-align: right;\">\n",
       "      <th></th>\n",
       "      <th></th>\n",
       "      <th>value</th>\n",
       "    </tr>\n",
       "    <tr>\n",
       "      <th>dia</th>\n",
       "      <th>geo_name</th>\n",
       "      <th></th>\n",
       "    </tr>\n",
       "  </thead>\n",
       "  <tbody>\n",
       "    <tr>\n",
       "      <th>01/01/2015</th>\n",
       "      <th>España</th>\n",
       "      <td>126.177083</td>\n",
       "    </tr>\n",
       "    <tr>\n",
       "      <th>01/01/2016</th>\n",
       "      <th>España</th>\n",
       "      <td>96.125417</td>\n",
       "    </tr>\n",
       "    <tr>\n",
       "      <th>01/01/2017</th>\n",
       "      <th>España</th>\n",
       "      <td>125.387917</td>\n",
       "    </tr>\n",
       "    <tr>\n",
       "      <th>01/02/2015</th>\n",
       "      <th>España</th>\n",
       "      <td>131.443750</td>\n",
       "    </tr>\n",
       "    <tr>\n",
       "      <th>01/02/2016</th>\n",
       "      <th>España</th>\n",
       "      <td>98.226667</td>\n",
       "    </tr>\n",
       "  </tbody>\n",
       "</table>\n",
       "</div>"
      ],
      "text/plain": [
       "                          value\n",
       "dia        geo_name            \n",
       "01/01/2015 España    126.177083\n",
       "01/01/2016 España     96.125417\n",
       "01/01/2017 España    125.387917\n",
       "01/02/2015 España    131.443750\n",
       "01/02/2016 España     98.226667"
      ]
     },
     "execution_count": 100,
     "metadata": {},
     "output_type": "execute_result"
    }
   ],
   "source": [
    "#f.to_csv(\"POOL2015_17\", encoding='utf-8', index=False)\n",
    "#f = pd.DataFrame(f)\n",
    "f.head()\n"
   ]
  },
  {
   "cell_type": "code",
   "execution_count": 91,
   "metadata": {
    "collapsed": true
   },
   "outputs": [],
   "source": [
    "f['datetime']=pd.to_datetime(f['datetime'])"
   ]
  },
  {
   "cell_type": "code",
   "execution_count": 92,
   "metadata": {
    "collapsed": true
   },
   "outputs": [],
   "source": [
    "f['dia'] = f['datetime'].dt.strftime('%m/%d/%Y')\n",
    "f = f.groupby(['dia','geo_name'])['value'].mean()"
   ]
  },
  {
   "cell_type": "code",
   "execution_count": 102,
   "metadata": {
    "collapsed": true
   },
   "outputs": [],
   "source": [
    "f.to_csv(\"/home/bju/data_app/pool_price2015_17\", encoding='utf-8',decimal=',')"
   ]
  },
  {
   "cell_type": "code",
   "execution_count": 95,
   "metadata": {
    "collapsed": true
   },
   "outputs": [],
   "source": []
  },
  {
   "cell_type": "code",
   "execution_count": null,
   "metadata": {
    "collapsed": true
   },
   "outputs": [],
   "source": []
  },
  {
   "cell_type": "code",
   "execution_count": 37,
   "metadata": {
    "collapsed": true
   },
   "outputs": [],
   "source": []
  },
  {
   "cell_type": "code",
   "execution_count": 50,
   "metadata": {
    "collapsed": true
   },
   "outputs": [],
   "source": []
  },
  {
   "cell_type": "code",
   "execution_count": null,
   "metadata": {
    "collapsed": true
   },
   "outputs": [],
   "source": []
  }
 ],
 "metadata": {
  "kernelspec": {
   "display_name": "Python 2",
   "language": "python",
   "name": "python2"
  },
  "language_info": {
   "codemirror_mode": {
    "name": "ipython",
    "version": 2
   },
   "file_extension": ".py",
   "mimetype": "text/x-python",
   "name": "python",
   "nbconvert_exporter": "python",
   "pygments_lexer": "ipython2",
   "version": "2.7.11"
  }
 },
 "nbformat": 4,
 "nbformat_minor": 2
}
